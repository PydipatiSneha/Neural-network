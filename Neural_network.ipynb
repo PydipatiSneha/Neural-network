{
  "nbformat": 4,
  "nbformat_minor": 0,
  "metadata": {
    "colab": {
      "name": "Neural network.ipynb",
      "provenance": [],
      "authorship_tag": "ABX9TyPABXZBk438g/ppJ8VGCz6c",
      "include_colab_link": true
    },
    "kernelspec": {
      "name": "python3",
      "display_name": "Python 3"
    }
  },
  "cells": [
    {
      "cell_type": "markdown",
      "metadata": {
        "id": "view-in-github",
        "colab_type": "text"
      },
      "source": [
        "<a href=\"https://colab.research.google.com/github/PydipatiSneha/Neural-network/blob/main/Neural_network.ipynb\" target=\"_parent\"><img src=\"https://colab.research.google.com/assets/colab-badge.svg\" alt=\"Open In Colab\"/></a>"
      ]
    },
    {
      "cell_type": "code",
      "metadata": {
        "id": "Uucfz4QAxDXT"
      },
      "source": [
        "import pandas as pd\n",
        "from sklearn import neural_network"
      ],
      "execution_count": 1,
      "outputs": []
    },
    {
      "cell_type": "code",
      "metadata": {
        "id": "mnzaUF3ixkNW",
        "colab": {
          "base_uri": "https://localhost:8080/",
          "height": 359
        },
        "outputId": "ea54eeb6-ba1c-408f-eb9e-8dd0bf51bdd9"
      },
      "source": [
        "data=pd.read_csv('/content/marks.csv')\n",
        "data"
      ],
      "execution_count": 2,
      "outputs": [
        {
          "output_type": "execute_result",
          "data": {
            "text/html": [
              "<div>\n",
              "<style scoped>\n",
              "    .dataframe tbody tr th:only-of-type {\n",
              "        vertical-align: middle;\n",
              "    }\n",
              "\n",
              "    .dataframe tbody tr th {\n",
              "        vertical-align: top;\n",
              "    }\n",
              "\n",
              "    .dataframe thead th {\n",
              "        text-align: right;\n",
              "    }\n",
              "</style>\n",
              "<table border=\"1\" class=\"dataframe\">\n",
              "  <thead>\n",
              "    <tr style=\"text-align: right;\">\n",
              "      <th></th>\n",
              "      <th>id</th>\n",
              "      <th>total</th>\n",
              "      <th>P / F</th>\n",
              "    </tr>\n",
              "  </thead>\n",
              "  <tbody>\n",
              "    <tr>\n",
              "      <th>0</th>\n",
              "      <td>1</td>\n",
              "      <td>91</td>\n",
              "      <td>1</td>\n",
              "    </tr>\n",
              "    <tr>\n",
              "      <th>1</th>\n",
              "      <td>2</td>\n",
              "      <td>85</td>\n",
              "      <td>1</td>\n",
              "    </tr>\n",
              "    <tr>\n",
              "      <th>2</th>\n",
              "      <td>3</td>\n",
              "      <td>30</td>\n",
              "      <td>0</td>\n",
              "    </tr>\n",
              "    <tr>\n",
              "      <th>3</th>\n",
              "      <td>4</td>\n",
              "      <td>12</td>\n",
              "      <td>0</td>\n",
              "    </tr>\n",
              "    <tr>\n",
              "      <th>4</th>\n",
              "      <td>5</td>\n",
              "      <td>68</td>\n",
              "      <td>1</td>\n",
              "    </tr>\n",
              "    <tr>\n",
              "      <th>5</th>\n",
              "      <td>6</td>\n",
              "      <td>72</td>\n",
              "      <td>1</td>\n",
              "    </tr>\n",
              "    <tr>\n",
              "      <th>6</th>\n",
              "      <td>7</td>\n",
              "      <td>40</td>\n",
              "      <td>1</td>\n",
              "    </tr>\n",
              "    <tr>\n",
              "      <th>7</th>\n",
              "      <td>8</td>\n",
              "      <td>35</td>\n",
              "      <td>0</td>\n",
              "    </tr>\n",
              "    <tr>\n",
              "      <th>8</th>\n",
              "      <td>9</td>\n",
              "      <td>99</td>\n",
              "      <td>1</td>\n",
              "    </tr>\n",
              "    <tr>\n",
              "      <th>9</th>\n",
              "      <td>10</td>\n",
              "      <td>89</td>\n",
              "      <td>1</td>\n",
              "    </tr>\n",
              "  </tbody>\n",
              "</table>\n",
              "</div>"
            ],
            "text/plain": [
              "   id  total  P / F\n",
              "0   1     91      1\n",
              "1   2     85      1\n",
              "2   3     30      0\n",
              "3   4     12      0\n",
              "4   5     68      1\n",
              "5   6     72      1\n",
              "6   7     40      1\n",
              "7   8     35      0\n",
              "8   9     99      1\n",
              "9  10     89      1"
            ]
          },
          "metadata": {
            "tags": []
          },
          "execution_count": 2
        }
      ]
    },
    {
      "cell_type": "code",
      "metadata": {
        "id": "d1Hf3r_8x7jo"
      },
      "source": [
        "x=pd.DataFrame(data['total'])\n",
        "y=pd.DataFrame(data['P / F'])"
      ],
      "execution_count": 3,
      "outputs": []
    },
    {
      "cell_type": "code",
      "metadata": {
        "id": "JNnuIEiKzEkx",
        "colab": {
          "base_uri": "https://localhost:8080/"
        },
        "outputId": "b6a73d1a-1f9f-4764-c669-4a2a0dd3fdef"
      },
      "source": [
        "mpl=neural_network.MLPClassifier(hidden_layer_sizes=(5,5),max_iter=540)\n",
        "mpl.fit(x,y)"
      ],
      "execution_count": 4,
      "outputs": [
        {
          "output_type": "stream",
          "text": [
            "/usr/local/lib/python3.7/dist-packages/sklearn/neural_network/_multilayer_perceptron.py:934: DataConversionWarning: A column-vector y was passed when a 1d array was expected. Please change the shape of y to (n_samples, ), for example using ravel().\n",
            "  y = column_or_1d(y, warn=True)\n",
            "/usr/local/lib/python3.7/dist-packages/sklearn/neural_network/_multilayer_perceptron.py:571: ConvergenceWarning: Stochastic Optimizer: Maximum iterations (540) reached and the optimization hasn't converged yet.\n",
            "  % self.max_iter, ConvergenceWarning)\n"
          ],
          "name": "stderr"
        },
        {
          "output_type": "execute_result",
          "data": {
            "text/plain": [
              "MLPClassifier(activation='relu', alpha=0.0001, batch_size='auto', beta_1=0.9,\n",
              "              beta_2=0.999, early_stopping=False, epsilon=1e-08,\n",
              "              hidden_layer_sizes=(5, 5), learning_rate='constant',\n",
              "              learning_rate_init=0.001, max_fun=15000, max_iter=540,\n",
              "              momentum=0.9, n_iter_no_change=10, nesterovs_momentum=True,\n",
              "              power_t=0.5, random_state=None, shuffle=True, solver='adam',\n",
              "              tol=0.0001, validation_fraction=0.1, verbose=False,\n",
              "              warm_start=False)"
            ]
          },
          "metadata": {
            "tags": []
          },
          "execution_count": 4
        }
      ]
    },
    {
      "cell_type": "code",
      "metadata": {
        "id": "-muHXd98z79_"
      },
      "source": [
        "Xtest=pd.DataFrame([65,22,36,92])"
      ],
      "execution_count": 5,
      "outputs": []
    },
    {
      "cell_type": "code",
      "metadata": {
        "id": "vKpEx32e0fQy",
        "colab": {
          "base_uri": "https://localhost:8080/"
        },
        "outputId": "5c20ad61-23f0-4e8a-b9b4-f33c880a3141"
      },
      "source": [
        "ypred=mpl.predict(Xtest)\n",
        "ypred"
      ],
      "execution_count": 6,
      "outputs": [
        {
          "output_type": "execute_result",
          "data": {
            "text/plain": [
              "array([1, 1, 1, 1])"
            ]
          },
          "metadata": {
            "tags": []
          },
          "execution_count": 6
        }
      ]
    },
    {
      "cell_type": "code",
      "metadata": {
        "id": "U_6jzmG01HyW",
        "colab": {
          "base_uri": "https://localhost:8080/"
        },
        "outputId": "dff62902-de53-4129-9505-9aa0d9b6c5ea"
      },
      "source": [
        "mpl.coefs_"
      ],
      "execution_count": 7,
      "outputs": [
        {
          "output_type": "execute_result",
          "data": {
            "text/plain": [
              "[array([[-0.52619231, -0.0063827 ,  0.65520764, -0.50340053, -0.44900954]]),\n",
              " array([[ 1.88540239e-03, -1.71353423e-14, -5.45119685e-06,\n",
              "         -1.12998721e-01, -5.60631442e-15],\n",
              "        [ 2.75997210e-01,  1.84985121e-01, -3.26219875e-01,\n",
              "         -2.83842183e-01, -3.42312496e-01],\n",
              "        [-1.82592683e-02, -2.48330316e-03, -8.55441337e-03,\n",
              "         -1.48773107e-01,  5.07199860e-01],\n",
              "        [-1.73445907e-06,  2.65304759e-01,  1.41814430e-04,\n",
              "         -3.09979944e-01,  2.20827526e-01],\n",
              "        [-3.23017959e-01,  6.68612009e-02,  2.30844683e-02,\n",
              "         -2.65564330e-03,  8.94788850e-02]]),\n",
              " array([[-0.26651144],\n",
              "        [-0.48210657],\n",
              "        [ 0.49017104],\n",
              "        [ 0.00212688],\n",
              "        [ 0.0297175 ]])]"
            ]
          },
          "metadata": {
            "tags": []
          },
          "execution_count": 7
        }
      ]
    },
    {
      "cell_type": "code",
      "metadata": {
        "id": "tgjS5lyU2ocM",
        "colab": {
          "base_uri": "https://localhost:8080/"
        },
        "outputId": "2d893e38-0403-40b4-ee36-f163bd387875"
      },
      "source": [
        "mpl.intercepts_"
      ],
      "execution_count": 8,
      "outputs": [
        {
          "output_type": "execute_result",
          "data": {
            "text/plain": [
              "[array([-0.86568889,  0.5669564 , -0.72218325, -0.86287146,  0.13929143]),\n",
              " array([ 1.03102774, -0.52986189,  0.13545726,  0.31721961, -0.68445077]),\n",
              " array([0.73775821])]"
            ]
          },
          "metadata": {
            "tags": []
          },
          "execution_count": 8
        }
      ]
    },
    {
      "cell_type": "code",
      "metadata": {
        "id": "tu8zXBMB27XY",
        "colab": {
          "base_uri": "https://localhost:8080/"
        },
        "outputId": "4fb5380e-54a7-498f-a0ca-fcba2c3f36a4"
      },
      "source": [
        "mpl.score(Xtest,ypred)"
      ],
      "execution_count": 9,
      "outputs": [
        {
          "output_type": "execute_result",
          "data": {
            "text/plain": [
              "1.0"
            ]
          },
          "metadata": {
            "tags": []
          },
          "execution_count": 9
        }
      ]
    },
    {
      "cell_type": "code",
      "metadata": {
        "id": "kiBUg0CP4rza"
      },
      "source": [
        "ytest=pd.DataFrame([1,0,1,1])"
      ],
      "execution_count": 10,
      "outputs": []
    },
    {
      "cell_type": "code",
      "metadata": {
        "id": "L7qQboWr6bK7",
        "colab": {
          "base_uri": "https://localhost:8080/"
        },
        "outputId": "16ae7928-7a6e-46bf-b8b6-05b9f25c8f5d"
      },
      "source": [
        "from sklearn.metrics import confusion_matrix\n",
        "cm = confusion_matrix(ytest, ypred)\n",
        "cm"
      ],
      "execution_count": 11,
      "outputs": [
        {
          "output_type": "execute_result",
          "data": {
            "text/plain": [
              "array([[0, 1],\n",
              "       [0, 3]])"
            ]
          },
          "metadata": {
            "tags": []
          },
          "execution_count": 11
        }
      ]
    }
  ]
}